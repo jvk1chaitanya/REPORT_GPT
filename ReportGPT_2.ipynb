{
 "cells": [
  {
   "cell_type": "code",
   "execution_count": 1,
   "id": "916fc1da",
   "metadata": {},
   "outputs": [],
   "source": [
    "import pandas as pd\n",
    "import numpy as np"
   ]
  },
  {
   "cell_type": "code",
   "execution_count": 2,
   "id": "f0dcaaeb",
   "metadata": {},
   "outputs": [
    {
     "data": {
      "text/html": [
       "<div>\n",
       "<style scoped>\n",
       "    .dataframe tbody tr th:only-of-type {\n",
       "        vertical-align: middle;\n",
       "    }\n",
       "\n",
       "    .dataframe tbody tr th {\n",
       "        vertical-align: top;\n",
       "    }\n",
       "\n",
       "    .dataframe thead th {\n",
       "        text-align: right;\n",
       "    }\n",
       "</style>\n",
       "<table border=\"1\" class=\"dataframe\">\n",
       "  <thead>\n",
       "    <tr style=\"text-align: right;\">\n",
       "      <th></th>\n",
       "      <th>ROW_ID</th>\n",
       "      <th>MODULE</th>\n",
       "      <th>LEVEL2</th>\n",
       "      <th>NAME</th>\n",
       "      <th>DESCRIPTION</th>\n",
       "      <th>KEYWORDS</th>\n",
       "      <th>ORACLE_MODULE</th>\n",
       "      <th>QUERY_PATH</th>\n",
       "    </tr>\n",
       "  </thead>\n",
       "  <tbody>\n",
       "    <tr>\n",
       "      <th>0</th>\n",
       "      <td>1</td>\n",
       "      <td>Finance</td>\n",
       "      <td>Accounts Payable</td>\n",
       "      <td>Account Segment By Modified Date Report</td>\n",
       "      <td>The report generates COA</td>\n",
       "      <td>COA;account segment;modified date report</td>\n",
       "      <td>Oracle R13</td>\n",
       "      <td>https://pwc.sharepoint.com/sites/US-ADV-Oracle...</td>\n",
       "    </tr>\n",
       "    <tr>\n",
       "      <th>1</th>\n",
       "      <td>2</td>\n",
       "      <td>Finance</td>\n",
       "      <td>Accounts Payable</td>\n",
       "      <td>ACH Formats</td>\n",
       "      <td>ACH payment formats for both CCD and PPD</td>\n",
       "      <td>ACH;CCD;PPD;payment</td>\n",
       "      <td>Oracle R13</td>\n",
       "      <td>https://pwc.sharepoint.com/sites/US-ADV-Oracle...</td>\n",
       "    </tr>\n",
       "    <tr>\n",
       "      <th>2</th>\n",
       "      <td>3</td>\n",
       "      <td>Finance</td>\n",
       "      <td>Accounts Payable</td>\n",
       "      <td>AP Aging Summary Report</td>\n",
       "      <td>Report is developed to extract the AP aging de...</td>\n",
       "      <td>AP;date;debit balance;supplier</td>\n",
       "      <td>Oracle R13</td>\n",
       "      <td>https://pwc.sharepoint.com/sites/US-ADV-Oracle...</td>\n",
       "    </tr>\n",
       "    <tr>\n",
       "      <th>3</th>\n",
       "      <td>4</td>\n",
       "      <td>ERP</td>\n",
       "      <td>Other</td>\n",
       "      <td>Approval Hierarchy Report</td>\n",
       "      <td>Approval Hierarchy Report</td>\n",
       "      <td>approval;hierarchy</td>\n",
       "      <td>Oracle R13</td>\n",
       "      <td>https://pwc.sharepoint.com/sites/US-ADV-Oracle...</td>\n",
       "    </tr>\n",
       "    <tr>\n",
       "      <th>4</th>\n",
       "      <td>5</td>\n",
       "      <td>ERP</td>\n",
       "      <td>Other</td>\n",
       "      <td>ESS Diagnostics Dashboard</td>\n",
       "      <td>ESS Diagnostics Dashboard</td>\n",
       "      <td>ESS;diagnostics;dashboard</td>\n",
       "      <td>Oracle R13</td>\n",
       "      <td>https://pwc.sharepoint.com/sites/US-ADV-Oracle...</td>\n",
       "    </tr>\n",
       "  </tbody>\n",
       "</table>\n",
       "</div>"
      ],
      "text/plain": [
       "   ROW_ID   MODULE            LEVEL2                                     NAME  \\\n",
       "0       1  Finance  Accounts Payable  Account Segment By Modified Date Report   \n",
       "1       2  Finance  Accounts Payable                              ACH Formats   \n",
       "2       3  Finance  Accounts Payable                  AP Aging Summary Report   \n",
       "3       4      ERP             Other                Approval Hierarchy Report   \n",
       "4       5      ERP             Other                ESS Diagnostics Dashboard   \n",
       "\n",
       "                                         DESCRIPTION  \\\n",
       "0                           The report generates COA   \n",
       "1           ACH payment formats for both CCD and PPD   \n",
       "2  Report is developed to extract the AP aging de...   \n",
       "3                          Approval Hierarchy Report   \n",
       "4                          ESS Diagnostics Dashboard   \n",
       "\n",
       "                                   KEYWORDS ORACLE_MODULE  \\\n",
       "0  COA;account segment;modified date report    Oracle R13   \n",
       "1                       ACH;CCD;PPD;payment    Oracle R13   \n",
       "2            AP;date;debit balance;supplier    Oracle R13   \n",
       "3                        approval;hierarchy    Oracle R13   \n",
       "4                 ESS;diagnostics;dashboard    Oracle R13   \n",
       "\n",
       "                                          QUERY_PATH  \n",
       "0  https://pwc.sharepoint.com/sites/US-ADV-Oracle...  \n",
       "1  https://pwc.sharepoint.com/sites/US-ADV-Oracle...  \n",
       "2  https://pwc.sharepoint.com/sites/US-ADV-Oracle...  \n",
       "3  https://pwc.sharepoint.com/sites/US-ADV-Oracle...  \n",
       "4  https://pwc.sharepoint.com/sites/US-ADV-Oracle...  "
      ]
     },
     "execution_count": 2,
     "metadata": {},
     "output_type": "execute_result"
    }
   ],
   "source": [
    "data = pd.read_csv('data_2023-07-09 10_45_27 AM.csv')\n",
    "data.head()"
   ]
  },
  {
   "cell_type": "code",
   "execution_count": 3,
   "id": "6ffa698a",
   "metadata": {},
   "outputs": [],
   "source": [
    "import spacy"
   ]
  },
  {
   "cell_type": "code",
   "execution_count": 4,
   "id": "7441140a",
   "metadata": {},
   "outputs": [],
   "source": [
    "# creating a lemmatizer object\n",
    "nlp = spacy.load('en_core_web_sm')\n",
    "    \n",
    "# converting stop words to a set for faster processing\n",
    "stopwords = spacy.lang.en.stop_words.STOP_WORDS\n",
    "new_stopwords = set(stopwords.copy())\n",
    "\n",
    "def keyword_cleaner(line):\n",
    "    \n",
    "    line = line.lower()\n",
    "    line_list = line.split(\";\")\n",
    "    new_line_list = [i for i in line_list if i not in new_stopwords]\n",
    "    \n",
    "    return \" \".join(new_line_list)"
   ]
  },
  {
   "cell_type": "code",
   "execution_count": 5,
   "id": "58d8c609",
   "metadata": {},
   "outputs": [],
   "source": [
    "data['NEW_KEYWORDS'] = data['KEYWORDS'].apply(keyword_cleaner)"
   ]
  },
  {
   "cell_type": "code",
   "execution_count": 6,
   "id": "161d5da7",
   "metadata": {},
   "outputs": [
    {
     "data": {
      "text/html": [
       "<div>\n",
       "<style scoped>\n",
       "    .dataframe tbody tr th:only-of-type {\n",
       "        vertical-align: middle;\n",
       "    }\n",
       "\n",
       "    .dataframe tbody tr th {\n",
       "        vertical-align: top;\n",
       "    }\n",
       "\n",
       "    .dataframe thead th {\n",
       "        text-align: right;\n",
       "    }\n",
       "</style>\n",
       "<table border=\"1\" class=\"dataframe\">\n",
       "  <thead>\n",
       "    <tr style=\"text-align: right;\">\n",
       "      <th></th>\n",
       "      <th>ROW_ID</th>\n",
       "      <th>MODULE</th>\n",
       "      <th>LEVEL2</th>\n",
       "      <th>NAME</th>\n",
       "      <th>DESCRIPTION</th>\n",
       "      <th>KEYWORDS</th>\n",
       "      <th>ORACLE_MODULE</th>\n",
       "      <th>QUERY_PATH</th>\n",
       "      <th>NEW_KEYWORDS</th>\n",
       "    </tr>\n",
       "  </thead>\n",
       "  <tbody>\n",
       "    <tr>\n",
       "      <th>0</th>\n",
       "      <td>1</td>\n",
       "      <td>Finance</td>\n",
       "      <td>Accounts Payable</td>\n",
       "      <td>Account Segment By Modified Date Report</td>\n",
       "      <td>The report generates COA</td>\n",
       "      <td>COA;account segment;modified date report</td>\n",
       "      <td>Oracle R13</td>\n",
       "      <td>https://pwc.sharepoint.com/sites/US-ADV-Oracle...</td>\n",
       "      <td>coa account segment modified date report</td>\n",
       "    </tr>\n",
       "    <tr>\n",
       "      <th>1</th>\n",
       "      <td>2</td>\n",
       "      <td>Finance</td>\n",
       "      <td>Accounts Payable</td>\n",
       "      <td>ACH Formats</td>\n",
       "      <td>ACH payment formats for both CCD and PPD</td>\n",
       "      <td>ACH;CCD;PPD;payment</td>\n",
       "      <td>Oracle R13</td>\n",
       "      <td>https://pwc.sharepoint.com/sites/US-ADV-Oracle...</td>\n",
       "      <td>ach ccd ppd payment</td>\n",
       "    </tr>\n",
       "    <tr>\n",
       "      <th>2</th>\n",
       "      <td>3</td>\n",
       "      <td>Finance</td>\n",
       "      <td>Accounts Payable</td>\n",
       "      <td>AP Aging Summary Report</td>\n",
       "      <td>Report is developed to extract the AP aging de...</td>\n",
       "      <td>AP;date;debit balance;supplier</td>\n",
       "      <td>Oracle R13</td>\n",
       "      <td>https://pwc.sharepoint.com/sites/US-ADV-Oracle...</td>\n",
       "      <td>ap date debit balance supplier</td>\n",
       "    </tr>\n",
       "    <tr>\n",
       "      <th>3</th>\n",
       "      <td>4</td>\n",
       "      <td>ERP</td>\n",
       "      <td>Other</td>\n",
       "      <td>Approval Hierarchy Report</td>\n",
       "      <td>Approval Hierarchy Report</td>\n",
       "      <td>approval;hierarchy</td>\n",
       "      <td>Oracle R13</td>\n",
       "      <td>https://pwc.sharepoint.com/sites/US-ADV-Oracle...</td>\n",
       "      <td>approval hierarchy</td>\n",
       "    </tr>\n",
       "    <tr>\n",
       "      <th>4</th>\n",
       "      <td>5</td>\n",
       "      <td>ERP</td>\n",
       "      <td>Other</td>\n",
       "      <td>ESS Diagnostics Dashboard</td>\n",
       "      <td>ESS Diagnostics Dashboard</td>\n",
       "      <td>ESS;diagnostics;dashboard</td>\n",
       "      <td>Oracle R13</td>\n",
       "      <td>https://pwc.sharepoint.com/sites/US-ADV-Oracle...</td>\n",
       "      <td>ess diagnostics dashboard</td>\n",
       "    </tr>\n",
       "  </tbody>\n",
       "</table>\n",
       "</div>"
      ],
      "text/plain": [
       "   ROW_ID   MODULE            LEVEL2                                     NAME  \\\n",
       "0       1  Finance  Accounts Payable  Account Segment By Modified Date Report   \n",
       "1       2  Finance  Accounts Payable                              ACH Formats   \n",
       "2       3  Finance  Accounts Payable                  AP Aging Summary Report   \n",
       "3       4      ERP             Other                Approval Hierarchy Report   \n",
       "4       5      ERP             Other                ESS Diagnostics Dashboard   \n",
       "\n",
       "                                         DESCRIPTION  \\\n",
       "0                           The report generates COA   \n",
       "1           ACH payment formats for both CCD and PPD   \n",
       "2  Report is developed to extract the AP aging de...   \n",
       "3                          Approval Hierarchy Report   \n",
       "4                          ESS Diagnostics Dashboard   \n",
       "\n",
       "                                   KEYWORDS ORACLE_MODULE  \\\n",
       "0  COA;account segment;modified date report    Oracle R13   \n",
       "1                       ACH;CCD;PPD;payment    Oracle R13   \n",
       "2            AP;date;debit balance;supplier    Oracle R13   \n",
       "3                        approval;hierarchy    Oracle R13   \n",
       "4                 ESS;diagnostics;dashboard    Oracle R13   \n",
       "\n",
       "                                          QUERY_PATH  \\\n",
       "0  https://pwc.sharepoint.com/sites/US-ADV-Oracle...   \n",
       "1  https://pwc.sharepoint.com/sites/US-ADV-Oracle...   \n",
       "2  https://pwc.sharepoint.com/sites/US-ADV-Oracle...   \n",
       "3  https://pwc.sharepoint.com/sites/US-ADV-Oracle...   \n",
       "4  https://pwc.sharepoint.com/sites/US-ADV-Oracle...   \n",
       "\n",
       "                               NEW_KEYWORDS  \n",
       "0  coa account segment modified date report  \n",
       "1                       ach ccd ppd payment  \n",
       "2            ap date debit balance supplier  \n",
       "3                        approval hierarchy  \n",
       "4                 ess diagnostics dashboard  "
      ]
     },
     "execution_count": 6,
     "metadata": {},
     "output_type": "execute_result"
    }
   ],
   "source": [
    "data.head()"
   ]
  },
  {
   "cell_type": "code",
   "execution_count": 7,
   "id": "55176d40",
   "metadata": {},
   "outputs": [
    {
     "name": "stderr",
     "output_type": "stream",
     "text": [
      "[nltk_data] Downloading package punkt to\n",
      "[nltk_data]     C:\\Users\\jvkch\\AppData\\Roaming\\nltk_data...\n",
      "[nltk_data]   Package punkt is already up-to-date!\n"
     ]
    },
    {
     "data": {
      "text/plain": [
       "True"
      ]
     },
     "execution_count": 7,
     "metadata": {},
     "output_type": "execute_result"
    }
   ],
   "source": [
    "'''import nltk\n",
    "nltk.download('punkt')'''"
   ]
  },
  {
   "cell_type": "code",
   "execution_count": 8,
   "id": "a58a1856",
   "metadata": {},
   "outputs": [],
   "source": [
    "from gensim.models import Word2Vec\n",
    "from nltk.tokenize import word_tokenize\n",
    "\n",
    "# Assuming you have loaded the data into a pandas DataFrame called 'data'\n",
    "# Replace 'data.csv' with the actual path if you are reading from a CSV file.\n",
    "# data = pd.read_csv('data.csv')\n",
    "\n",
    "# Tokenize the text into individual words\n",
    "data['TOKENIZED_KEYWORDS'] = data['NEW_KEYWORDS'].apply(word_tokenize)\n",
    "\n",
    "# Train Word2Vec model\n",
    "word2vec_model = Word2Vec(sentences=data['TOKENIZED_KEYWORDS'], vector_size=100, window=5, min_count=1, workers=4)\n",
    "\n",
    "# Save the trained Word2Vec model\n",
    "word2vec_model.save('word2vec_model_1.bin')"
   ]
  },
  {
   "cell_type": "code",
   "execution_count": 10,
   "id": "17851bc7",
   "metadata": {},
   "outputs": [],
   "source": [
    "from gensim.models import KeyedVectors\n",
    "\n",
    "word_embeddings_model = KeyedVectors.load('word2vec_model_1.bin')\n",
    "\n",
    "def document_embedding(keywords):\n",
    "    embeddings = [word_embeddings_model.wv[word] for word in keywords if word in word_embeddings_model.wv]\n",
    "    if len(embeddings) > 0:\n",
    "        return np.mean(embeddings, axis=0)\n",
    "    else:\n",
    "        return None\n",
    "    \n",
    "def vectorize_query(query):\n",
    "    new_query = query.lower().split()\n",
    "    embeddings = [word_embeddings_model.wv[word] for word in new_query if word in word_embeddings_model.wv]\n",
    "    if len(embeddings) > 0:\n",
    "        return np.mean(embeddings, axis=0)\n",
    "    else:\n",
    "        return None"
   ]
  },
  {
   "cell_type": "code",
   "execution_count": 11,
   "id": "6cda69c1",
   "metadata": {},
   "outputs": [],
   "source": [
    "# Calculate document embeddings and add them to the DataFrame\n",
    "data['DOCUMENT_EMBEDDING'] = data['TOKENIZED_KEYWORDS'].apply(document_embedding)\n",
    "\n",
    "# Prepare data for nearest neighbor search\n",
    "X = np.vstack(data['DOCUMENT_EMBEDDING'].dropna().to_numpy())\n",
    "document_indices = data['DOCUMENT_EMBEDDING'].dropna().index"
   ]
  },
  {
   "cell_type": "code",
   "execution_count": 28,
   "id": "37176fc1",
   "metadata": {},
   "outputs": [],
   "source": [
    "# Example user query\n",
    "user_query = \"get ppd ess report\"\n",
    "\n",
    "# Vectorize the user query\n",
    "user_query_vector = vectorize_query(user_query)"
   ]
  },
  {
   "cell_type": "code",
   "execution_count": 15,
   "id": "d57118b0",
   "metadata": {},
   "outputs": [],
   "source": [
    "from sklearn.neighbors import NearestNeighbors\n",
    "\n",
    "# Build the approximate nearest neighbor search index\n",
    "n_neighbors = 5  # You can adjust this parameter based on the number of desired neighbors.\n",
    "ann_index = NearestNeighbors(n_neighbors=n_neighbors, algorithm='auto').fit(X)"
   ]
  },
  {
   "cell_type": "code",
   "execution_count": 29,
   "id": "9252e961",
   "metadata": {},
   "outputs": [
    {
     "name": "stdout",
     "output_type": "stream",
     "text": [
      "The most similar document_id to the user query is: 2\n"
     ]
    }
   ],
   "source": [
    "# Find the most similar document to the user query\n",
    "distances, indices = ann_index.kneighbors([user_query_vector])\n",
    "most_similar_document_id = data.dropna().iloc[indices[0][0]]['ROW_ID']\n",
    "\n",
    "# Output the most similar document_id\n",
    "print(\"The most similar document_id to the user query is:\", most_similar_document_id)"
   ]
  },
  {
   "cell_type": "code",
   "execution_count": null,
   "id": "e3d43b36",
   "metadata": {},
   "outputs": [],
   "source": []
  }
 ],
 "metadata": {
  "kernelspec": {
   "display_name": "Python 3 (ipykernel)",
   "language": "python",
   "name": "python3"
  },
  "language_info": {
   "codemirror_mode": {
    "name": "ipython",
    "version": 3
   },
   "file_extension": ".py",
   "mimetype": "text/x-python",
   "name": "python",
   "nbconvert_exporter": "python",
   "pygments_lexer": "ipython3",
   "version": "3.10.9"
  }
 },
 "nbformat": 4,
 "nbformat_minor": 5
}
